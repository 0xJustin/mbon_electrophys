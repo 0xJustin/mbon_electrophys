{
 "cells": [
  {
   "cell_type": "code",
   "execution_count": 322,
   "metadata": {},
   "outputs": [],
   "source": [
    "import numpy as np\n",
    "import pandas as pd\n",
    "from io import StringIO\n",
    "from scipy.spatial import cKDTree # create KDTree\n",
    "import matplotlib.pyplot as plt\n",
    "\n",
    "import fafbseg # API\n",
    "from fafbseg import flywire\n",
    "import caveclient\n",
    "\n",
    "import networkx as nx # create tree based on SWC\n",
    "import navis\n",
    "\n",
    "import jax\n",
    "import jaxley as jx\n",
    "import jax.numpy as jnp # numpy in jax\n",
    "from jaxley.channels import Na, K, Leak # Mechanism\n",
    "\n",
    "from jax import config # Device\n",
    "config.update(\"jax_platform_name\", \"cpu\")\n",
    "config.update(\"jax_enable_x64\", True)\n",
    "#print(jax.devices())\n",
    "\n",
    "\n",
    "from jax import jit, vmap, value_and_grad # Simulation and optimization\n",
    "import optax\n",
    "import tensorflow as tf\n",
    "from tensorflow.data import Dataset"
   ]
  },
  {
   "cell_type": "code",
   "execution_count": 323,
   "metadata": {},
   "outputs": [],
   "source": [
    "# Define the SWC content\n",
    "swc_content = \"\"\"\\\n",
    "1 1 0.0 0.0 0.0 1.0 -1\n",
    "2 0 1.5 0.0 0.0 1.0 1\n",
    "3 0 3.5 0.5 0.0 1.0 2\n",
    "4 0 4.0 1.5 0.0 1.0 3\n",
    "5 0 5.5 2.0 0.0 1.0 4\n",
    "6 0 7.0 3.0 0.0 1.0 5\n",
    "7 0 8.0 5.0 0.0 1.0 6\n",
    "8 0 9.0 7.0 0.0 1.0 7\n",
    "9 0 9.5 9.0 0.0 1.0 8\n",
    "10 0 7.0 -1.0 0.0 1.0 6\n",
    "11 0 6.0 -2.5 0.0 1.0 10\n",
    "12 0 5.0 -4.0 0.0 1.0 11\n",
    "13 0 8.0 2.5 0.0 1.0 5\n",
    "14 0 9.5 3.5 0.0 1.0 13\n",
    "15 0 11.0 4.0 0.0 1.0 14\n",
    "16 0 4.0 0.5 0.0 1.0 4\n",
    "17 0 4.5 1.0 0.0 1.0 16\n",
    "18 0 5.0 1.5 0.0 1.0 17\n",
    "19 0 3.5 -1.0 0.0 1.0 16\n",
    "20 0 2.0 -2.0 0.0 1.0 19\n",
    "21 0 1.0 -3.0 0.0 1.0 20\n",
    "\"\"\"\n",
    "# Write to a file\n",
    "with open(\"minSWC.swc\", \"w\") as f:\n",
    "    f.write(swc_content)\n"
   ]
  },
  {
   "cell_type": "code",
   "execution_count": 324,
   "metadata": {},
   "outputs": [
    {
     "name": "stderr",
     "output_type": "stream",
     "text": [
      "c:\\Users\\Venom\\anaconda3\\envs\\Jax\\Lib\\site-packages\\jaxley\\utils\\swc.py:32: UserWarning: Found a soma which consists of a single traced point. `Jaxley` interprets this soma as a spherical compartment with radius specified in the SWC file, i.e. with surface area 4*pi*r*r.\n",
      "  warn(\n"
     ]
    },
    {
     "data": {
      "text/html": [
       "<div>\n",
       "<style scoped>\n",
       "    .dataframe tbody tr th:only-of-type {\n",
       "        vertical-align: middle;\n",
       "    }\n",
       "\n",
       "    .dataframe tbody tr th {\n",
       "        vertical-align: top;\n",
       "    }\n",
       "\n",
       "    .dataframe thead th {\n",
       "        text-align: right;\n",
       "    }\n",
       "</style>\n",
       "<table border=\"1\" class=\"dataframe\">\n",
       "  <thead>\n",
       "    <tr style=\"text-align: right;\">\n",
       "      <th></th>\n",
       "      <th>comp_index</th>\n",
       "      <th>branch_index</th>\n",
       "      <th>cell_index</th>\n",
       "      <th>length</th>\n",
       "      <th>radius</th>\n",
       "      <th>axial_resistivity</th>\n",
       "      <th>capacitance</th>\n",
       "      <th>v</th>\n",
       "    </tr>\n",
       "  </thead>\n",
       "  <tbody>\n",
       "    <tr>\n",
       "      <th>0</th>\n",
       "      <td>0</td>\n",
       "      <td>0</td>\n",
       "      <td>0</td>\n",
       "      <td>2.000000</td>\n",
       "      <td>1.0</td>\n",
       "      <td>5000.0</td>\n",
       "      <td>1.0</td>\n",
       "      <td>-70.0</td>\n",
       "    </tr>\n",
       "    <tr>\n",
       "      <th>1</th>\n",
       "      <td>1</td>\n",
       "      <td>1</td>\n",
       "      <td>0</td>\n",
       "      <td>3.179587</td>\n",
       "      <td>1.0</td>\n",
       "      <td>5000.0</td>\n",
       "      <td>1.0</td>\n",
       "      <td>-70.0</td>\n",
       "    </tr>\n",
       "    <tr>\n",
       "      <th>2</th>\n",
       "      <td>2</td>\n",
       "      <td>2</td>\n",
       "      <td>0</td>\n",
       "      <td>1.581139</td>\n",
       "      <td>1.0</td>\n",
       "      <td>5000.0</td>\n",
       "      <td>1.0</td>\n",
       "      <td>-70.0</td>\n",
       "    </tr>\n",
       "    <tr>\n",
       "      <th>3</th>\n",
       "      <td>3</td>\n",
       "      <td>3</td>\n",
       "      <td>0</td>\n",
       "      <td>1.000000</td>\n",
       "      <td>1.0</td>\n",
       "      <td>5000.0</td>\n",
       "      <td>1.0</td>\n",
       "      <td>-70.0</td>\n",
       "    </tr>\n",
       "    <tr>\n",
       "      <th>4</th>\n",
       "      <td>4</td>\n",
       "      <td>4</td>\n",
       "      <td>0</td>\n",
       "      <td>1.802776</td>\n",
       "      <td>1.0</td>\n",
       "      <td>5000.0</td>\n",
       "      <td>1.0</td>\n",
       "      <td>-70.0</td>\n",
       "    </tr>\n",
       "    <tr>\n",
       "      <th>5</th>\n",
       "      <td>5</td>\n",
       "      <td>5</td>\n",
       "      <td>0</td>\n",
       "      <td>5.933424</td>\n",
       "      <td>1.0</td>\n",
       "      <td>5000.0</td>\n",
       "      <td>1.0</td>\n",
       "      <td>-70.0</td>\n",
       "    </tr>\n",
       "    <tr>\n",
       "      <th>6</th>\n",
       "      <td>6</td>\n",
       "      <td>6</td>\n",
       "      <td>0</td>\n",
       "      <td>6.533689</td>\n",
       "      <td>1.0</td>\n",
       "      <td>5000.0</td>\n",
       "      <td>1.0</td>\n",
       "      <td>-70.0</td>\n",
       "    </tr>\n",
       "    <tr>\n",
       "      <th>7</th>\n",
       "      <td>7</td>\n",
       "      <td>7</td>\n",
       "      <td>0</td>\n",
       "      <td>7.605551</td>\n",
       "      <td>1.0</td>\n",
       "      <td>5000.0</td>\n",
       "      <td>1.0</td>\n",
       "      <td>-70.0</td>\n",
       "    </tr>\n",
       "    <tr>\n",
       "      <th>8</th>\n",
       "      <td>8</td>\n",
       "      <td>8</td>\n",
       "      <td>0</td>\n",
       "      <td>1.414214</td>\n",
       "      <td>1.0</td>\n",
       "      <td>5000.0</td>\n",
       "      <td>1.0</td>\n",
       "      <td>-70.0</td>\n",
       "    </tr>\n",
       "    <tr>\n",
       "      <th>9</th>\n",
       "      <td>9</td>\n",
       "      <td>9</td>\n",
       "      <td>0</td>\n",
       "      <td>4.798128</td>\n",
       "      <td>1.0</td>\n",
       "      <td>5000.0</td>\n",
       "      <td>1.0</td>\n",
       "      <td>-70.0</td>\n",
       "    </tr>\n",
       "  </tbody>\n",
       "</table>\n",
       "</div>"
      ],
      "text/plain": [
       "   comp_index  branch_index  cell_index    length  radius  axial_resistivity  \\\n",
       "0           0             0           0  2.000000     1.0             5000.0   \n",
       "1           1             1           0  3.179587     1.0             5000.0   \n",
       "2           2             2           0  1.581139     1.0             5000.0   \n",
       "3           3             3           0  1.000000     1.0             5000.0   \n",
       "4           4             4           0  1.802776     1.0             5000.0   \n",
       "5           5             5           0  5.933424     1.0             5000.0   \n",
       "6           6             6           0  6.533689     1.0             5000.0   \n",
       "7           7             7           0  7.605551     1.0             5000.0   \n",
       "8           8             8           0  1.414214     1.0             5000.0   \n",
       "9           9             9           0  4.798128     1.0             5000.0   \n",
       "\n",
       "   capacitance     v  \n",
       "0          1.0 -70.0  \n",
       "1          1.0 -70.0  \n",
       "2          1.0 -70.0  \n",
       "3          1.0 -70.0  \n",
       "4          1.0 -70.0  \n",
       "5          1.0 -70.0  \n",
       "6          1.0 -70.0  \n",
       "7          1.0 -70.0  \n",
       "8          1.0 -70.0  \n",
       "9          1.0 -70.0  "
      ]
     },
     "execution_count": 324,
     "metadata": {},
     "output_type": "execute_result"
    },
    {
     "data": {
      "image/png": "[encoded data removed]",
      "text/plain": [
       "<Figure size 400x200 with 1 Axes>"
      ]
     },
     "metadata": {},
     "output_type": "display_data"
    }
   ],
   "source": [
    "cell = jx.read_swc(\"minSWC.swc\", nseg=1, assign_groups=False)\n",
    "cell.compute_xyz()  # Only needed for visualization.\n",
    "fig, ax = plt.subplots(1, 1, figsize=(4, 2))\n",
    "_ = cell.vis(ax=ax, col=\"k\")\n",
    "cell.show()"
   ]
  },
  {
   "cell_type": "code",
   "execution_count": 325,
   "metadata": {},
   "outputs": [],
   "source": [
    "column_names = [\"Index\", \"Type\", \"X\", \"Y\", \"Z\", \"Radius\", \"Parent\"]\n",
    "df = pd.read_csv(\"minSWC.swc\", delim_whitespace=True, names=column_names)[[\"Index\", \"Parent\"]]\n",
    "df_full = pd.read_csv(\"minSWC.swc\", delim_whitespace=True, names=column_names)"
   ]
  },
  {
   "cell_type": "code",
   "execution_count": 326,
   "metadata": {},
   "outputs": [],
   "source": [
    "tree = nx.DiGraph()\n",
    "for _, row in df.iterrows():\n",
    "    node = row[\"Index\"]\n",
    "    parent = row[\"Parent\"]\n",
    "    if (parent != -1):\n",
    "        tree.add_edge(parent, node)\n",
    "    else:\n",
    "        tree.add_node(node)"
   ]
  },
  {
   "cell_type": "code",
   "execution_count": 327,
   "metadata": {},
   "outputs": [
    {
     "data": {
      "image/png": "[encoded data removed]",
      "text/plain": [
       "<Figure size 800x600 with 1 Axes>"
      ]
     },
     "metadata": {},
     "output_type": "display_data"
    }
   ],
   "source": [
    "plt.figure(figsize=(8, 6))  # Set the figure size\n",
    "pos = nx.spring_layout(tree)  # You can use different layouts like spring_layout, planar_layout, etc.\n",
    "nx.draw(tree, pos, with_labels=True, node_size=300, node_color=\"lightblue\", font_size=10, font_weight=\"bold\")\n",
    "plt.show()"
   ]
  },
  {
   "cell_type": "code",
   "execution_count": 328,
   "metadata": {},
   "outputs": [
    {
     "name": "stdout",
     "output_type": "stream",
     "text": [
      "Compartments: [[1], [2, 3, 4], [4, 5], [4, 16], [5, 6], [5, 13, 14, 15], [6, 7, 8, 9], [6, 10, 11, 12], [16, 17, 18], [16, 19, 20, 21]]\n"
     ]
    }
   ],
   "source": [
    "import networkx as nx\n",
    "\n",
    "def dfs_with_compartments(graph, start_node):\n",
    "\n",
    "    visited = set()\n",
    "    traversal_order = []  # List to store compartments\n",
    "    compartment = []  # Temporary list to store the current series of nodes\n",
    "    stack = [start_node]  # Stack for DFS traversal\n",
    "    branching_stack = []  # Stack to track branching points\n",
    "\n",
    "    while stack:\n",
    "        node = stack.pop()\n",
    "\n",
    "        if node not in visited:\n",
    "            visited.add(node)\n",
    "\n",
    "            # Prepend the compartment with prior branching point\n",
    "            if (not compartment and node != 1 and list(graph.predecessors(node))[0] !=1):\n",
    "                compartment.append(list(graph.predecessors(node))[0])\n",
    "            compartment.append(node)\n",
    "            \n",
    "            # Get all unvisited children of the current node\n",
    "            children = sorted([child for child in graph.successors(node) if child not in visited])\n",
    "\n",
    "            if len(children) > 1:\n",
    "                # If the current node is a branching point, push it to the branching stack\n",
    "                branching_stack.append(node)\n",
    "                traversal_order.append(compartment)\n",
    "                compartment = []\n",
    "\n",
    "            if len(children) == 0:\n",
    "                # If the current node has no children, we've reached the end of a compartment\n",
    "                traversal_order.append(compartment)  # Save the current compartment\n",
    "                compartment = []  # Start a new compartment\n",
    "\n",
    "                # If there are still branching points to backtrack to, backtrack\n",
    "                if branching_stack:\n",
    "                    stack.append(branching_stack.pop())\n",
    "\n",
    "            else:\n",
    "                # If there are children, continue the DFS\n",
    "                stack.extend(reversed(children))  # Add children to the stack in reverse order\n",
    "\n",
    "    return traversal_order\n",
    "\n",
    "result = dfs_with_compartments(tree, 1)\n",
    "result.insert(1, result[0][1:])\n",
    "result[0] = [1]\n",
    "result = sorted(result, key=lambda x: (x[0], x[1] if len(x) > 1 else float('inf')))\n",
    "print(\"Compartments:\", result)\n"
   ]
  },
  {
   "cell_type": "code",
   "execution_count": 329,
   "metadata": {},
   "outputs": [
    {
     "data": {
      "text/plain": [
       "array([2.        , 3.1795868 , 1.58113883, 1.        , 1.80277564,\n",
       "       5.93342422, 6.53368877, 7.60555128, 1.41421356, 4.79812803])"
      ]
     },
     "execution_count": 329,
     "metadata": {},
     "output_type": "execute_result"
    }
   ],
   "source": [
    "lengths = [df_full.iloc[0][\"Radius\"] * 2]\n",
    "for compartment in result[1:]:\n",
    "    length = 0\n",
    "    for i in range (len(compartment) - 1):\n",
    "        coord_start = df_full.iloc[compartment[i] - 1][[\"X\", \"Y\", \"Z\"]].values\n",
    "        coord_end = df_full.iloc[compartment[i + 1] - 1][[\"X\", \"Y\", \"Z\"]].values\n",
    "        length += (np.linalg.norm (coord_end - coord_start))\n",
    "    lengths.append(length)\n",
    "predict_length = np.array(lengths)\n",
    "predict_length"
   ]
  },
  {
   "cell_type": "code",
   "execution_count": 330,
   "metadata": {},
   "outputs": [
    {
     "data": {
      "text/plain": [
       "array([2.        , 3.1795868 , 1.58113883, 1.        , 1.80277564,\n",
       "       5.93342422, 6.53368877, 7.60555128, 1.41421356, 4.79812803])"
      ]
     },
     "execution_count": 330,
     "metadata": {},
     "output_type": "execute_result"
    }
   ],
   "source": [
    "actual_length = cell.show()[\"length\"].values\n",
    "actual_length"
   ]
  },
  {
   "cell_type": "code",
   "execution_count": 331,
   "metadata": {},
   "outputs": [
    {
     "name": "stdout",
     "output_type": "stream",
     "text": [
      "Arrays match within tolerance: True\n"
     ]
    }
   ],
   "source": [
    "tolerance = 0.01\n",
    "result = np.allclose(predict_length, actual_length, atol=tolerance)\n",
    "\n",
    "print(\"Arrays match within tolerance:\", result)"
   ]
  }
 ],
 "metadata": {
  "kernelspec": {
   "display_name": "Jax",
   "language": "python",
   "name": "python3"
  },
  "language_info": {
   "codemirror_mode": {
    "name": "ipython",
    "version": 3
   },
   "file_extension": ".py",
   "mimetype": "text/x-python",
   "name": "python",
   "nbconvert_exporter": "python",
   "pygments_lexer": "ipython3",
   "version": "3.12.5"
  }
 },
 "nbformat": 4,
 "nbformat_minor": 2
}
