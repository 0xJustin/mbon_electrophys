{
 "cells": [
  {
   "cell_type": "code",
   "execution_count": 2,
   "metadata": {},
   "outputs": [],
   "source": [
    "import neuprint_functions\n",
    "import numpy as np\n",
    "import json\n",
    "%load_ext autoreload\n",
    "%autoreload 2 -p"
   ]
  },
  {
   "cell_type": "code",
   "execution_count": 3,
   "metadata": {},
   "outputs": [],
   "source": [
    "mbon_id = 424789697 #MBON01_R\n",
    "types, bodyids = neuprint_functions.get_all_neurons_presynaptic_to(mbon_id, supertype='KC')\n",
    "soma_loc = neuprint_functions.get_soma_location(mbon_id)"
   ]
  },
  {
   "cell_type": "code",
   "execution_count": 4,
   "metadata": {},
   "outputs": [
    {
     "data": {
      "text/plain": [
       "[21581, 29092, 5440]"
      ]
     },
     "execution_count": 4,
     "metadata": {},
     "output_type": "execute_result"
    }
   ],
   "source": [
    "soma_loc"
   ]
  },
  {
   "cell_type": "code",
   "execution_count": 5,
   "metadata": {},
   "outputs": [
    {
     "data": {
      "application/vnd.jupyter.widget-view+json": {
       "model_id": "f098f31c72644547a67414e580e717d2",
       "version_major": 2,
       "version_minor": 0
      },
      "text/plain": [
       "  0%|          | 0/2324 [00:00<?, ?it/s]"
      ]
     },
     "metadata": {},
     "output_type": "display_data"
    },
    {
     "data": {
      "application/vnd.jupyter.widget-view+json": {
       "model_id": "d6fa57149dff4478afed91541f757100",
       "version_major": 2,
       "version_minor": 0
      },
      "text/plain": [
       "  0%|          | 0/2351 [00:00<?, ?it/s]"
      ]
     },
     "metadata": {},
     "output_type": "display_data"
    },
    {
     "data": {
      "application/vnd.jupyter.widget-view+json": {
       "model_id": "332f1499fa424eb0ab26d35fb7506a26",
       "version_major": 2,
       "version_minor": 0
      },
      "text/plain": [
       "  0%|          | 0/2516 [00:00<?, ?it/s]"
      ]
     },
     "metadata": {},
     "output_type": "display_data"
    },
    {
     "data": {
      "application/vnd.jupyter.widget-view+json": {
       "model_id": "247e64cb5b7e47ba8f47b0d798a87d0d",
       "version_major": 2,
       "version_minor": 0
      },
      "text/plain": [
       "  0%|          | 0/2622 [00:00<?, ?it/s]"
      ]
     },
     "metadata": {},
     "output_type": "display_data"
    }
   ],
   "source": [
    "synapses = neuprint_functions.pull_synapses(bodyids, post_id=mbon_id, n_iter=4)"
   ]
  },
  {
   "cell_type": "code",
   "execution_count": 6,
   "metadata": {},
   "outputs": [
    {
     "name": "stdout",
     "output_type": "stream",
     "text": [
      "The Total number of PRE>POST synapses is = 9813\n",
      "The total number of presynaptic KCs is = 1193\n",
      "The average number of KC>MBON synapses per KC is = 8.225481978206203\n"
     ]
    }
   ],
   "source": [
    "# Factor to adjust from pixels to um coordinates\n",
    "coordinates, lengths = neuprint_functions.pre_syn_coord_dict(synapses, bodyids)\n",
    "print(\"The Total number of PRE>POST synapses is = \"+str(len(synapses))) \n",
    "print(\"The total number of presynaptic KCs is = \"+str(len(coordinates))) \n",
    "print(\"The average number of KC>MBON synapses per KC is = \"+str(np.mean(lengths)))\n",
    "coordinates_json = json.dumps(coordinates, indent = 4)\n",
    "with open(f'synapse_coordinates_scaled_{mbon_id}.json', 'w') as output:\n",
    "    output.write(coordinates_json)\n",
    "output.close()"
   ]
  },
  {
   "cell_type": "code",
   "execution_count": 7,
   "metadata": {},
   "outputs": [],
   "source": [
    "skel_graph = neuprint_functions.pull_skeleton(mbon_id, skel_format='nx')\n",
    "skel = neuprint_functions.pull_skeleton(mbon_id, skel_format='pandas')\n",
    "skel_swc, relabel_dict = neuprint_functions.relabel_skeleton_swc(skel_graph, skel)"
   ]
  },
  {
   "cell_type": "code",
   "execution_count": 8,
   "metadata": {},
   "outputs": [],
   "source": [
    "with open(\"neuron_skeleton.swc\", \"w\") as output:\n",
    "    output.write(skel_swc)"
   ]
  },
  {
   "cell_type": "code",
   "execution_count": 9,
   "metadata": {},
   "outputs": [],
   "source": [
    "closest_skel_nodes_to_synapses, synapses_per_skel_node_dict = neuprint_functions.match_synapses_to_tree(synapses, skel_graph, relabel_dict)"
   ]
  },
  {
   "cell_type": "code",
   "execution_count": 10,
   "metadata": {},
   "outputs": [
    {
     "name": "stderr",
     "output_type": "stream",
     "text": [
      "Warning: no DISPLAY environment variable.\n",
      "--No graphics will be displayed.\n"
     ]
    }
   ],
   "source": [
    "# Jan 22, 2024\n",
    "# Fitting passive membrane parameters of MBON-02 through an Optimization algorithm\n",
    "\n",
    "import pandas as pd\n",
    "from matplotlib import pyplot as plt\n",
    "import numpy as np\n",
    "import math\n",
    "from neuron import h, gui\n",
    "from scipy.optimize import minimize"
   ]
  },
  {
   "cell_type": "code",
   "execution_count": 11,
   "metadata": {},
   "outputs": [],
   "source": [
    "v_rest = -55.78571429 \n",
    "data = pd.read_excel('./data/Recorded_voltage.xlsx')\n",
    "t_experiment = data.iloc[0, 1:]\n",
    "v_experiment = data.iloc[2, 1:]\n",
    "v_experiment = [x * v_rest + v_rest for x in v_experiment]"
   ]
  },
  {
   "cell_type": "code",
   "execution_count": 12,
   "metadata": {},
   "outputs": [],
   "source": [
    "# Initial guesses for the parameters\n",
    "initial_guess = [100, 0.7, 9.0E-6]\n",
    "\n",
    "# Boundaries of the parameters\n",
    "min_R = 30\n",
    "max_R = 400\n",
    "min_C = 0.5\n",
    "max_C = 1.5\n",
    "min_g = 1.0E-6\n",
    "max_g = 1.0E-4\n",
    "bounds = [(min_R, max_R), (min_C, max_C), (min_g, max_g)]"
   ]
  },
  {
   "cell_type": "code",
   "execution_count": 131,
   "metadata": {},
   "outputs": [
    {
     "data": {
      "text/plain": [
       "array([[33914],\n",
       "       [33915],\n",
       "       [33916],\n",
       "       [33920],\n",
       "       [33921],\n",
       "       [33922],\n",
       "       [33923],\n",
       "       [33924],\n",
       "       [33925],\n",
       "       [33926],\n",
       "       [33927],\n",
       "       [33928],\n",
       "       [33929],\n",
       "       [33930],\n",
       "       [33931],\n",
       "       [33932],\n",
       "       [33933],\n",
       "       [33934],\n",
       "       [33935],\n",
       "       [33936],\n",
       "       [33937],\n",
       "       [33938],\n",
       "       [33939],\n",
       "       [33940],\n",
       "       [33941],\n",
       "       [33942],\n",
       "       [33943],\n",
       "       [33944],\n",
       "       [33945],\n",
       "       [33946],\n",
       "       [33947],\n",
       "       [33948],\n",
       "       [33949],\n",
       "       [33950],\n",
       "       [33951],\n",
       "       [33952],\n",
       "       [33953],\n",
       "       [33954],\n",
       "       [33955],\n",
       "       [33956],\n",
       "       [33957],\n",
       "       [33958],\n",
       "       [33959],\n",
       "       [33960],\n",
       "       [33961],\n",
       "       [33962],\n",
       "       [33963],\n",
       "       [33964],\n",
       "       [33965],\n",
       "       [33966],\n",
       "       [33967],\n",
       "       [33968],\n",
       "       [33969],\n",
       "       [33970],\n",
       "       [33971],\n",
       "       [33972],\n",
       "       [33973],\n",
       "       [33974],\n",
       "       [33975],\n",
       "       [33976],\n",
       "       [33977],\n",
       "       [33978],\n",
       "       [33979],\n",
       "       [33980],\n",
       "       [33981],\n",
       "       [33982],\n",
       "       [33983],\n",
       "       [33984],\n",
       "       [33985],\n",
       "       [33986],\n",
       "       [33987],\n",
       "       [33988],\n",
       "       [33989],\n",
       "       [33990],\n",
       "       [33991],\n",
       "       [33992],\n",
       "       [33993],\n",
       "       [33994],\n",
       "       [33995],\n",
       "       [33996],\n",
       "       [33997],\n",
       "       [33998],\n",
       "       [33999],\n",
       "       [34000],\n",
       "       [34001],\n",
       "       [34002],\n",
       "       [34003],\n",
       "       [34004],\n",
       "       [34005],\n",
       "       [34006],\n",
       "       [34007],\n",
       "       [34008],\n",
       "       [34009],\n",
       "       [34010],\n",
       "       [34011],\n",
       "       [34012],\n",
       "       [34013],\n",
       "       [34014],\n",
       "       [34015],\n",
       "       [34016],\n",
       "       [34017],\n",
       "       [34018],\n",
       "       [34019],\n",
       "       [34020],\n",
       "       [34021],\n",
       "       [34022],\n",
       "       [34023],\n",
       "       [34024],\n",
       "       [34025],\n",
       "       [34026],\n",
       "       [34027],\n",
       "       [34028],\n",
       "       [34029],\n",
       "       [34030],\n",
       "       [34031],\n",
       "       [34032],\n",
       "       [34033],\n",
       "       [34034],\n",
       "       [34035],\n",
       "       [34036],\n",
       "       [34037],\n",
       "       [34038],\n",
       "       [34039],\n",
       "       [34040],\n",
       "       [34041],\n",
       "       [34042],\n",
       "       [34043],\n",
       "       [34044],\n",
       "       [34045],\n",
       "       [34046],\n",
       "       [34047],\n",
       "       [34048],\n",
       "       [34049],\n",
       "       [34050],\n",
       "       [34051],\n",
       "       [34052],\n",
       "       [34053],\n",
       "       [34054],\n",
       "       [34055],\n",
       "       [34056],\n",
       "       [34057],\n",
       "       [34058],\n",
       "       [34059],\n",
       "       [34060],\n",
       "       [34061],\n",
       "       [34062],\n",
       "       [34063],\n",
       "       [34064],\n",
       "       [34065],\n",
       "       [34066],\n",
       "       [34067],\n",
       "       [34068],\n",
       "       [34069],\n",
       "       [34070],\n",
       "       [34071],\n",
       "       [34072],\n",
       "       [34073],\n",
       "       [34074],\n",
       "       [34075],\n",
       "       [34076],\n",
       "       [34077],\n",
       "       [34078],\n",
       "       [34079],\n",
       "       [34080],\n",
       "       [34081],\n",
       "       [34082],\n",
       "       [34083],\n",
       "       [34084],\n",
       "       [34085],\n",
       "       [34086],\n",
       "       [34087],\n",
       "       [34088],\n",
       "       [34089],\n",
       "       [34090],\n",
       "       [34091],\n",
       "       [34092],\n",
       "       [34093],\n",
       "       [34094],\n",
       "       [34095],\n",
       "       [34096],\n",
       "       [34097],\n",
       "       [34098],\n",
       "       [34099],\n",
       "       [34100],\n",
       "       [34101],\n",
       "       [34102],\n",
       "       [34103],\n",
       "       [34104],\n",
       "       [34105],\n",
       "       [34106],\n",
       "       [34107],\n",
       "       [34108],\n",
       "       [34109],\n",
       "       [34110],\n",
       "       [34111],\n",
       "       [34112],\n",
       "       [34113],\n",
       "       [34114],\n",
       "       [34115],\n",
       "       [34116],\n",
       "       [34117],\n",
       "       [34118],\n",
       "       [34119],\n",
       "       [34120],\n",
       "       [34121],\n",
       "       [34122],\n",
       "       [34123],\n",
       "       [34124],\n",
       "       [34125],\n",
       "       [34126],\n",
       "       [34127],\n",
       "       [34128],\n",
       "       [34129],\n",
       "       [34130],\n",
       "       [34131],\n",
       "       [34132],\n",
       "       [34133],\n",
       "       [34134],\n",
       "       [34135],\n",
       "       [34136],\n",
       "       [34137],\n",
       "       [34138],\n",
       "       [34139],\n",
       "       [34140],\n",
       "       [34141],\n",
       "       [34142],\n",
       "       [34143],\n",
       "       [34144],\n",
       "       [34145],\n",
       "       [34146],\n",
       "       [34147],\n",
       "       [34148],\n",
       "       [34149],\n",
       "       [34150],\n",
       "       [34151],\n",
       "       [34152],\n",
       "       [34153],\n",
       "       [34154],\n",
       "       [34155],\n",
       "       [34156],\n",
       "       [34157],\n",
       "       [34158],\n",
       "       [34159],\n",
       "       [34160],\n",
       "       [34161],\n",
       "       [34162],\n",
       "       [34163],\n",
       "       [34164],\n",
       "       [34165],\n",
       "       [34166],\n",
       "       [34167],\n",
       "       [34168],\n",
       "       [34169],\n",
       "       [34170],\n",
       "       [34171]])"
      ]
     },
     "execution_count": 131,
     "metadata": {},
     "output_type": "execute_result"
    }
   ],
   "source": [
    "import networkx as nx\n",
    "threshold = 2000\n",
    "dists = np.linalg.norm(skel[[\"x\", \"y\", \"z\"]].values - soma_loc, axis=1)\n",
    "closest_node_to_center = np.argmin(dists)\n",
    "close_nodes = np.argwhere(dists < threshold) + 1\n",
    "# Test if graph distance from each node to closest node is less than threshold\n",
    "close_mask = np.ones(len(skel), dtype=bool)\n",
    "for n in close_nodes:\n",
    "    if nx.shortest_path_length(skel_graph, source=closest_node_to_center, target=n) > 2000:\n",
    "        close_mask[n] = False"
   ]
  },
  {
   "cell_type": "code",
   "execution_count": 127,
   "metadata": {},
   "outputs": [
    {
     "data": {
      "text/plain": [
       "array([5986.14475268, 5863.26606935, 5745.93847861, 5630.04165171,\n",
       "       5498.48788305, 5441.93430684, 5321.9746629 , 5224.56974305,\n",
       "       5144.32201558, 5079.49852929, 4974.15655194, 4845.2914257 ,\n",
       "       4749.88515651, 4702.40332171, 4540.74982795, 4422.08930551,\n",
       "       4326.33898348, 4157.85148845, 4018.71733268, 3866.29654838,\n",
       "       3728.03017692, 3534.12068272, 3428.17283695, 3315.60388958,\n",
       "       3208.09174918, 3079.0588518 , 3044.34869882, 2937.02042894,\n",
       "       2893.15090239, 2779.02617186, 2727.50600366, 2645.39801016,\n",
       "       2531.9022493 , 2476.91118129, 2470.52467048, 2336.87162677,\n",
       "       2248.96620695, 2092.53172019, 1965.92192114, 1838.08644301,\n",
       "       1632.1792181 , 1499.30589831, 1359.66221031, 1201.05328774,\n",
       "       1126.91126536, 1089.07713225, 1022.92326635,  970.92860943,\n",
       "        874.20879405,  703.93343287,  583.82124035,  517.65607661,\n",
       "        426.40946392,  402.38928696,  354.20461769,  274.40397466,\n",
       "        267.55857042,  254.3959476 ,  253.05565583,  239.10039732,\n",
       "        231.26193268,  208.26310567,  168.7224786 ,  155.09493822,\n",
       "        151.17060103])"
      ]
     },
     "execution_count": 127,
     "metadata": {},
     "output_type": "execute_result"
    }
   ],
   "source": [
    "np.linalg.norm(skel[np.isin(skel.index, np.array(nodes_near_soma)-1)][[\"x\", \"y\", \"z\"]].values - soma_loc, axis=1)"
   ]
  },
  {
   "cell_type": "code",
   "execution_count": 129,
   "metadata": {},
   "outputs": [
    {
     "data": {
      "image/png": "[encoded data removed]",
      "text/plain": [
       "<Figure size 640x480 with 1 Axes>"
      ]
     },
     "metadata": {},
     "output_type": "display_data"
    }
   ],
   "source": [
    "for n in skel_graph.nodes():\n",
    "    loc = np.array([skel_graph.nodes()[n]['x'], skel_graph.nodes()[n]['y'], skel_graph.nodes()[n]['z']])\n",
    "    if np.linalg.norm(loc - np.array(soma_loc)) < 10000:\n",
    "        if n in nodes_near_soma:\n",
    "            plt.scatter(skel_graph.nodes()[n]['x'], skel_graph.nodes()[n]['z'], c='red', s=1)\n",
    "        else:    \n",
    "            plt.scatter(skel_graph.nodes()[n]['x'], skel_graph.nodes()[n]['z'], c='black', s=1)"
   ]
  },
  {
   "cell_type": "code",
   "execution_count": 25,
   "metadata": {},
   "outputs": [
    {
     "data": {
      "text/plain": [
       "169"
      ]
     },
     "execution_count": 25,
     "metadata": {},
     "output_type": "execute_result"
    }
   ],
   "source": [
    "len(nodes_near_soma)"
   ]
  },
  {
   "cell_type": "code",
   "execution_count": 15,
   "metadata": {},
   "outputs": [],
   "source": [
    "data = pd.read_csv(\"./data/cell1.csv\")"
   ]
  },
  {
   "cell_type": "code",
   "execution_count": 29,
   "metadata": {},
   "outputs": [
    {
     "data": {
      "text/plain": [
       "[<matplotlib.lines.Line2D at 0x2afa5d1e0>]"
      ]
     },
     "execution_count": 29,
     "metadata": {},
     "output_type": "execute_result"
    },
    {
     "data": {
      "image/png": "[encoded data removed]",
      "text/plain": [
       "<Figure size 640x480 with 1 Axes>"
      ]
     },
     "metadata": {},
     "output_type": "display_data"
    }
   ],
   "source": [
    "i = 7\n",
    "t_experiment = data.index\n",
    "v_experiment = data.iloc[:, i]\n",
    "# If we print v_experiment, we see that it is normalized between 0 and 1. So we need to rescale it to actual values\n",
    "v_rest = -55.78571429     # resting membrane voltage\n",
    "v_experiment = [x * v_rest + v_rest for x in v_experiment]\n",
    "plt.plot(v_experiment)"
   ]
  },
  {
   "cell_type": "code",
   "execution_count": 30,
   "metadata": {},
   "outputs": [],
   "source": [
    "# Initial guesses for the parameters\n",
    "initial_guess = [100, 0.7, 9.0E-6]\n",
    "\n",
    "# Boundaries of the parameters\n",
    "min_R = 30\n",
    "max_R = 400\n",
    "min_C = 0.5\n",
    "max_C = 1.5\n",
    "min_g = 1.0E-6\n",
    "max_g = 1.0E-4\n",
    "bounds = [(min_R, max_R), (min_C, max_C), (min_g, max_g)]"
   ]
  },
  {
   "cell_type": "code",
   "execution_count": null,
   "metadata": {},
   "outputs": [],
   "source": [
    "\n",
    "\n",
    "\n",
    "# Function to load morphology data\n",
    "def instantiate_swc(filename):\n",
    "    '''\n",
    "    Load swc file and instantiate it as cell\n",
    "    Code source: https://www.neuron.yale.edu/phpBB/viewtopic.php?t=3257\n",
    "    '''\n",
    "\n",
    "    # load helper library, included with Neuron\n",
    "    h.load_file('import3d.hoc')\n",
    "\n",
    "    # load data\n",
    "    cell = h.Import3d_SWC_read()\n",
    "    cell.input(filename)\n",
    "\n",
    "    # instantiate\n",
    "    i3d = h.Import3d_GUI(cell,0)\n",
    "    i3d.instantiate(None)\n",
    "\n",
    "\n",
    "\n",
    "def myinit():\n",
    "    for sec in all_sections:\n",
    "        sec.Ra = h.Resist\n",
    "        sec.cm = h.Capac\n",
    "        sec.insert('pas')\n",
    "        for seg in sec:\n",
    "            seg.pas.g = h.conduct\n",
    "            seg.pas.e = h.reverse\n",
    "    h.v_init = -55.79   # Resting membrane potential\n",
    "    print('initializing')\n",
    "    if h.cvode.active():\n",
    "        h.cvode.re_init()\n",
    "    else:\n",
    "        h.fcurrent()\n",
    "    h.frecord_init()\n",
    "    stim = None\n",
    "\n",
    "\n",
    "    \n",
    "all_sections = None\n",
    "t_vec = None\n",
    "v_vec_soma = None\n",
    "\n",
    "# Define the function that calculates the difference between experimental and simulated voltage vectors\n",
    "def objective(params):\n",
    "   R, C, g = params\n",
    "\n",
    "   from neuron import h, gui        # open NEURON environment\n",
    "\n",
    "   # Import swc and instantiate cell\n",
    "  # cell = instantiate_swc('MBON-02-right.swc')\n",
    "   cell = instantiate_swc('MBON-02-200-Janelia-Scaled.swc')\n",
    "\n",
    "   # Import function automatically creates dendritic and axonal sections, named \"dend_0[i]\"\n",
    "   # Create SectionList containing all sections\n",
    "   arbors = h.SectionList()\n",
    "   for sec in h.allsec():\n",
    "       arbors.append(sec=sec)\n",
    "\n",
    "   # Convert SectionList into a Python list arbors_py\n",
    "   # Individual sections can be selected by their index i\n",
    "   arbors_py = [sec for sec in arbors]\n",
    "\n",
    "   soma_sec = []\n",
    "   for sec in range(5975, 6144):\n",
    "     soma_sec.append(sec)\n",
    "\n",
    "   soma_list = []\n",
    "   for i in soma_sec:\n",
    "      soma_list.append('dend_0[{}]'.format(i))\n",
    "\n",
    "   soma_sections = []\n",
    "   for sec in arbors_py:\n",
    "    if str(sec) in soma_list:\n",
    "       soma_sections.append(sec)\n",
    "\n",
    "   \n",
    "   # Create the artificial soma\n",
    "   for sec in soma_sections:\n",
    "      h.delete_section(sec=sec)\n",
    "   # Making new artificial soma\n",
    "   soma = h.Section(name='soma')\n",
    "   soma.connect(h.dend_0[5974](1), 0)\n",
    "   soma.L = 6.243\n",
    "   soma.diam = 6.243\n",
    "   soma.nseg = 1\n",
    "   #help(soma)\n",
    "\n",
    "   \n",
    "   # Removing soma sections from arbors_py\n",
    "   temp = []\n",
    "   for sec in arbors_py:\n",
    "    if str(sec) != '<deleted section>':\n",
    "        temp.append(sec)\n",
    "   arbors_py = temp\n",
    "\n",
    "   # Whole neuron morphology\n",
    "   global all_sections\n",
    "   all_sections = []\n",
    "   all_sections.append(soma)\n",
    "   for sec in arbors_py:\n",
    "       all_sections.append(sec)\n",
    "\n",
    "   # Creating the simulated voltage trajectory\n",
    "   R_var = 'Resist='+str(R)\n",
    "   C_var = 'Capac='+str(C)\n",
    "   g_var = 'conduct='+str(g)\n",
    "\n",
    "   # Simulating soma voltage before fitting passive parameters\n",
    "   # Proxy values\n",
    "   h(R_var)\n",
    "   h(C_var)\n",
    "   h(g_var)\n",
    "   h('reverse = -55.79')     # Leak reversal potential (mV)\n",
    "\n",
    "   # Define new initializing procedure... now for any process that initializes model\n",
    "   h('proc init() {finitialize(v_init) nrnpython(\"myinit()\")}')\n",
    "\n",
    "   # Setting the passive parameters\n",
    "   for sec in all_sections:\n",
    "       sec.Ra = h.Resist          # Cytoplasmic Resistivity (Ohm * cm)\n",
    "       sec.cm = h.Capac         # Membrane Capacitance (micro Farads / cm2)\n",
    "       sec.insert('pas')                   # Insert passive channels\n",
    "       for seg in sec:\n",
    "           seg.pas.g = h.conduct       # Passive conductance (S/cm2)\n",
    "           seg.pas.e = h.reverse                       # Leak reversal potential (mV)\n",
    "   h.v_init = -55.79   # Resting membrane potential\n",
    "   h.t = 0\n",
    "\n",
    "   # Create current injection at soma\n",
    "   stim = h.IClamp(soma(0.5))\n",
    "   stim.delay = 30           # Start time of current injection (ms)\n",
    "   stim.dur = 400            # Duration (ms)\n",
    "   stim.amp = -0.01          # Amplitude (nA)\n",
    "\n",
    "   # Recording simulation results\n",
    "   # time\n",
    "   global t_vec\n",
    "   t_vec = h.Vector()\n",
    "   t_vec.record(h._ref_t)\n",
    "\n",
    "   # Soma voltage\n",
    "   global v_vec_soma\n",
    "   v_vec_soma = h.Vector()\n",
    "   v_vec_soma.record(soma(0.5)._ref_v)\n",
    "\n",
    "   # Create recording vector for current\n",
    "   inject = h.Vector()\n",
    "   inject.record(stim._ref_i)\n",
    "\n",
    "   h.t = 0.0\n",
    "   h.tstop = 460       # Same as experimental recording duration\n",
    "   h.run()\n",
    "\n",
    "   # Build a vector out of v_vec_soma whoes length is equal to the length of v_experiment\n",
    "   v_sim_adjust = []\n",
    "   for i in range(len(v_vec_soma)):\n",
    "    if i % 2 !=0:\n",
    "       v_sim_adjust.append(v_vec_soma[i])\n",
    "\n",
    "   v_sim_adjust = np.array(v_sim_adjust)\n",
    "\n",
    "   # Calculate the sum of squared differences\n",
    "   diff = v_experiment - v_sim_adjust\n",
    "   #h.quit()       # exit the NEURON environment\n",
    "   return np.sum(diff**2)\n",
    "   h.quit()       # exit from NEURON environment             # The fun attribute of the optimization result (result.fun) will have the value of this objective function at the optimized point\n",
    "\n",
    "\n",
    "# Perform optimization\n",
    "result = minimize(objective, initial_guess, bounds=bounds)\n",
    "optimized_error = math.sqrt(result.fun/len(v_experiment)) / abs(max(v_experiment)-min(v_experiment))\n",
    "\n",
    "# Extract optimized values\n",
    "optimized_R, optimized_C, optimized_g = result.x\n",
    "\n",
    "# Extract the error (objective value)\n",
    "optimized_error = math.sqrt(result.fun/len(v_experiment)) / abs(max(v_experiment)-min(v_experiment))\n",
    "\n",
    "# Print the optimized values and error\n",
    "print(\"Optimized R:\", optimized_R)\n",
    "print(\"Optimized C:\", optimized_C)\n",
    "print(\"Optimized g:\", optimized_g)\n",
    "print(\"Optimized Error:\", optimized_error)\n",
    "\n",
    "\n",
    "\n",
    "# It looks like repeating the optimization with different initial conditions leads to the same optimized value for parameters.\n",
    "# So we consider this as the best fit.\n",
    "\n",
    "\n",
    "# Plotting the simulated variables\n",
    "plt.style.use('fivethirtyeight')\n",
    "plt.figure(2)\n",
    "plt.rcParams.update({'font.size': 15})\n",
    "color = 'black'\n",
    "plt.plot(t_experiment, v_experiment, color=color, linewidth=3, label='experiment')\n",
    "color = '#22B822'     # forest green\n",
    "plt.plot(t_vec, v_vec_soma, color=color, linewidth=3, label='simulation')\n",
    "plt.title('I-clamp, after optimization')\n",
    "plt.xlabel('t [ms]')\n",
    "plt.ylabel('v_s [mV]')\n",
    "plt.legend()\n",
    "plt.tight_layout()\n",
    "plt.savefig('I-clamp_10pA_after_optimization.jpg')\n",
    "plt.show()\n",
    "\n",
    "\n",
    "\n",
    "with open('Fitted_parameters_MBON-02_Hemibrain.txt', 'w') as file:\n",
    "   file.write(\"Optimized values of passive membrane parameters: \\n\")\n",
    "   file.write('initial_guess = ' + str(initial_guess) +\"\\n\")\n",
    "   file.write('Optimized R = ' + str(optimized_R) +\"\\n\")\n",
    "   file.write('Optimized C = ' + str(optimized_C) + \"\\n\")\n",
    "   file.write('Optimized g = '+ str(optimized_g) + \"\\n\")\n",
    "   file.write('Optimization error = ' + str(optimized_error) + \"\\n\")\n",
    "# The file is automatically closed when the 'with' block is exited\n",
    "   \n",
    "   "
   ]
  }
 ],
 "metadata": {
  "kernelspec": {
   "display_name": "base",
   "language": "python",
   "name": "python3"
  },
  "language_info": {
   "codemirror_mode": {
    "name": "ipython",
    "version": 3
   },
   "file_extension": ".py",
   "mimetype": "text/x-python",
   "name": "python",
   "nbconvert_exporter": "python",
   "pygments_lexer": "ipython3",
   "version": "3.10.11"
  },
  "orig_nbformat": 4
 },
 "nbformat": 4,
 "nbformat_minor": 2
}
