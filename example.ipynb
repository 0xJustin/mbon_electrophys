{
 "cells": [
  {
   "cell_type": "code",
   "execution_count": 1,
   "metadata": {},
   "outputs": [],
   "source": [
    "import neuprint_functions\n",
    "import numpy as np\n",
    "import json\n",
    "%load_ext autoreload\n",
    "%autoreload 2 -p"
   ]
  },
  {
   "cell_type": "code",
   "execution_count": 2,
   "metadata": {},
   "outputs": [],
   "source": [
    "mbon_id = 612371421 #MBON01_R\n",
    "types, bodyids = neuprint_functions.get_all_neurons_presynaptic_to(mbon_id, supertype='KC')"
   ]
  },
  {
   "cell_type": "code",
   "execution_count": 3,
   "metadata": {},
   "outputs": [
    {
     "data": {
      "application/vnd.jupyter.widget-view+json": {
       "model_id": "fa77a6944ec24aa5bb79ae12c6e3647a",
       "version_major": 2,
       "version_minor": 0
      },
      "text/plain": [
       "  0%|          | 0/6235 [00:00<?, ?it/s]"
      ]
     },
     "metadata": {},
     "output_type": "display_data"
    },
    {
     "data": {
      "application/vnd.jupyter.widget-view+json": {
       "model_id": "50ba713c8ad1433080e24d54db3b75a8",
       "version_major": 2,
       "version_minor": 0
      },
      "text/plain": [
       "  0%|          | 0/6384 [00:00<?, ?it/s]"
      ]
     },
     "metadata": {},
     "output_type": "display_data"
    },
    {
     "data": {
      "application/vnd.jupyter.widget-view+json": {
       "model_id": "445f67b06d824300a1955c0a9d73bd20",
       "version_major": 2,
       "version_minor": 0
      },
      "text/plain": [
       "  0%|          | 0/7133 [00:00<?, ?it/s]"
      ]
     },
     "metadata": {},
     "output_type": "display_data"
    },
    {
     "data": {
      "application/vnd.jupyter.widget-view+json": {
       "model_id": "97f194d2af22404e9013480ff32f3046",
       "version_major": 2,
       "version_minor": 0
      },
      "text/plain": [
       "  0%|          | 0/7101 [00:00<?, ?it/s]"
      ]
     },
     "metadata": {},
     "output_type": "display_data"
    }
   ],
   "source": [
    "synapses = neuprint_functions.pull_mb_synapses(bodyids, post_id=mbon_id, only_mb=True, n_iter=4)"
   ]
  },
  {
   "cell_type": "code",
   "execution_count": 4,
   "metadata": {},
   "outputs": [
    {
     "name": "stdout",
     "output_type": "stream",
     "text": [
      "The Total number of PRE>POST synapses is = 26853\n",
      "The total number of presynaptic KCs is = 984\n",
      "The average number of KC>MBON synapses per KC is = 27.289634146341463\n"
     ]
    }
   ],
   "source": [
    "# Factor to adjust from pixels to um coordinates\n",
    "coordinates, lengths = neuprint_functions.pre_syn_coord_dict(synapses, bodyids)\n",
    "print(\"The Total number of PRE>POST synapses is = \"+str(len(synapses))) \n",
    "print(\"The total number of presynaptic KCs is = \"+str(len(coordinates))) \n",
    "print(\"The average number of KC>MBON synapses per KC is = \"+str(np.mean(lengths)))\n",
    "coordinates_json = json.dumps(coordinates, indent = 4)\n",
    "with open(f'synapse_coordinates_scaled_{mbon_id}.json', 'w') as output:\n",
    "    output.write(coordinates_json)\n",
    "output.close()"
   ]
  },
  {
   "cell_type": "code",
   "execution_count": 34,
   "metadata": {},
   "outputs": [
    {
     "name": "stdout",
     "output_type": "stream",
     "text": [
      "Reloading 'neuprint_functions'.\n"
     ]
    }
   ],
   "source": [
    "skel_graph = neuprint_functions.pull_skeleton(mbon_id, skel_format='nx')\n",
    "skel = neuprint_functions.pull_skeleton(mbon_id, skel_format='pandas')\n",
    "skel_swc, relabel_dict = neuprint_functions.relabel_skeleton_swc(skel_graph, skel)"
   ]
  },
  {
   "cell_type": "code",
   "execution_count": null,
   "metadata": {},
   "outputs": [],
   "source": [
    "with open(\"neuron_skeleton.swc\", \"w\") as output:\n",
    "    output.write(skel_swc)"
   ]
  }
 ],
 "metadata": {
  "kernelspec": {
   "display_name": "base",
   "language": "python",
   "name": "python3"
  },
  "language_info": {
   "codemirror_mode": {
    "name": "ipython",
    "version": 3
   },
   "file_extension": ".py",
   "mimetype": "text/x-python",
   "name": "python",
   "nbconvert_exporter": "python",
   "pygments_lexer": "ipython3",
   "version": "3.10.11"
  },
  "orig_nbformat": 4
 },
 "nbformat": 4,
 "nbformat_minor": 2
}
