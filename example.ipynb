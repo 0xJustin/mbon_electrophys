{
 "cells": [
  {
   "cell_type": "code",
   "execution_count": 1,
   "metadata": {},
   "outputs": [],
   "source": [
    "import neuprint_functions\n",
    "import numpy as np\n",
    "import json\n",
    "%load_ext autoreload\n",
    "%autoreload 2 -p"
   ]
  },
  {
   "cell_type": "code",
   "execution_count": 2,
   "metadata": {},
   "outputs": [],
   "source": [
    "mbon_id = 424789697 #MBON01_R\n",
    "types, bodyids = neuprint_functions.get_all_neurons_presynaptic_to(mbon_id, supertype='KC')"
   ]
  },
  {
   "cell_type": "code",
   "execution_count": 5,
   "metadata": {},
   "outputs": [
    {
     "data": {
      "application/vnd.jupyter.widget-view+json": {
       "model_id": "cefb3906dad449be8d44a08b6d32a137",
       "version_major": 2,
       "version_minor": 0
      },
      "text/plain": [
       "  0%|          | 0/2324 [00:00<?, ?it/s]"
      ]
     },
     "metadata": {},
     "output_type": "display_data"
    },
    {
     "data": {
      "application/vnd.jupyter.widget-view+json": {
       "model_id": "456900cd29d043ca8ffaa7f7c44b3a05",
       "version_major": 2,
       "version_minor": 0
      },
      "text/plain": [
       "  0%|          | 0/2351 [00:00<?, ?it/s]"
      ]
     },
     "metadata": {},
     "output_type": "display_data"
    }
   ],
   "source": [
    "synapses = neuprint_functions.pull_synapses(bodyids, post_id=mbon_id, n_iter=4)"
   ]
  },
  {
   "cell_type": "code",
   "execution_count": 7,
   "metadata": {},
   "outputs": [
    {
     "name": "stdout",
     "output_type": "stream",
     "text": [
      "The Total number of PRE>POST synapses is = 9813\n",
      "The total number of presynaptic KCs is = 1193\n",
      "The average number of KC>MBON synapses per KC is = 8.225481978206203\n"
     ]
    }
   ],
   "source": [
    "# Factor to adjust from pixels to um coordinates\n",
    "coordinates, lengths = neuprint_functions.pre_syn_coord_dict(synapses, bodyids)\n",
    "print(\"The Total number of PRE>POST synapses is = \"+str(len(synapses))) \n",
    "print(\"The total number of presynaptic KCs is = \"+str(len(coordinates))) \n",
    "print(\"The average number of KC>MBON synapses per KC is = \"+str(np.mean(lengths)))\n",
    "coordinates_json = json.dumps(coordinates, indent = 4)\n",
    "with open(f'synapse_coordinates_scaled_{mbon_id}.json', 'w') as output:\n",
    "    output.write(coordinates_json)\n",
    "output.close()"
   ]
  },
  {
   "cell_type": "code",
   "execution_count": 9,
   "metadata": {},
   "outputs": [
    {
     "name": "stderr",
     "output_type": "stream",
     "text": [
      "/var/folders/lh/qs4dckx57_x56y2s1_8blvm80000gq/T/ipykernel_29369/2046546812.py:2: SettingWithCopyWarning: \n",
      "A value is trying to be set on a copy of a slice from a DataFrame\n",
      "\n",
      "See the caveats in the documentation: https://pandas.pydata.org/pandas-docs/stable/user_guide/indexing.html#returning-a-view-versus-a-copy\n",
      "  synapses[\"pre_or_post\"][synapses[\"pre_or_post\"] == True] = \"pre\"\n",
      "/var/folders/lh/qs4dckx57_x56y2s1_8blvm80000gq/T/ipykernel_29369/2046546812.py:3: SettingWithCopyWarning: \n",
      "A value is trying to be set on a copy of a slice from a DataFrame\n",
      "\n",
      "See the caveats in the documentation: https://pandas.pydata.org/pandas-docs/stable/user_guide/indexing.html#returning-a-view-versus-a-copy\n",
      "  synapses[\"pre_or_post\"][synapses[\"pre_or_post\"] == False] = \"post\"\n",
      "/var/folders/lh/qs4dckx57_x56y2s1_8blvm80000gq/T/ipykernel_29369/2046546812.py:3: FutureWarning: Setting an item of incompatible dtype is deprecated and will raise in a future error of pandas. Value 'post' has dtype incompatible with bool, please explicitly cast to a compatible dtype first.\n",
      "  synapses[\"pre_or_post\"][synapses[\"pre_or_post\"] == False] = \"post\"\n"
     ]
    }
   ],
   "source": [
    "synapses[\"pre_or_post\"] = synapses[\"bodyId_pre\"] == mbon_id\n",
    "synapses[\"pre_or_post\"][synapses[\"pre_or_post\"] == True] = \"pre\"\n",
    "synapses[\"pre_or_post\"][synapses[\"pre_or_post\"] == False] = \"post\""
   ]
  },
  {
   "cell_type": "code",
   "execution_count": 12,
   "metadata": {},
   "outputs": [
    {
     "data": {
      "text/html": [
       "<div>\n",
       "<style scoped>\n",
       "    .dataframe tbody tr th:only-of-type {\n",
       "        vertical-align: middle;\n",
       "    }\n",
       "\n",
       "    .dataframe tbody tr th {\n",
       "        vertical-align: top;\n",
       "    }\n",
       "\n",
       "    .dataframe thead th {\n",
       "        text-align: right;\n",
       "    }\n",
       "</style>\n",
       "<table border=\"1\" class=\"dataframe\">\n",
       "  <thead>\n",
       "    <tr style=\"text-align: right;\">\n",
       "      <th></th>\n",
       "      <th>index</th>\n",
       "      <th>bodyId_pre</th>\n",
       "      <th>bodyId_post</th>\n",
       "      <th>roi_pre</th>\n",
       "      <th>roi_post</th>\n",
       "      <th>x_pre</th>\n",
       "      <th>y_pre</th>\n",
       "      <th>z_pre</th>\n",
       "      <th>x_post</th>\n",
       "      <th>y_post</th>\n",
       "      <th>z_post</th>\n",
       "      <th>confidence_pre</th>\n",
       "      <th>confidence_post</th>\n",
       "      <th>pre_or_post</th>\n",
       "    </tr>\n",
       "  </thead>\n",
       "  <tbody>\n",
       "    <tr>\n",
       "      <th>0</th>\n",
       "      <td>0</td>\n",
       "      <td>5813091744</td>\n",
       "      <td>424789697</td>\n",
       "      <td>b'L(R)</td>\n",
       "      <td>b'L(R)</td>\n",
       "      <td>19671</td>\n",
       "      <td>30054</td>\n",
       "      <td>19484</td>\n",
       "      <td>19669</td>\n",
       "      <td>30031</td>\n",
       "      <td>19466</td>\n",
       "      <td>0.889</td>\n",
       "      <td>0.715545</td>\n",
       "      <td>post</td>\n",
       "    </tr>\n",
       "    <tr>\n",
       "      <th>1</th>\n",
       "      <td>1</td>\n",
       "      <td>5813091744</td>\n",
       "      <td>424789697</td>\n",
       "      <td>bL(R)</td>\n",
       "      <td>bL(R)</td>\n",
       "      <td>19769</td>\n",
       "      <td>30128</td>\n",
       "      <td>19705</td>\n",
       "      <td>19738</td>\n",
       "      <td>30112</td>\n",
       "      <td>19705</td>\n",
       "      <td>0.972</td>\n",
       "      <td>0.486082</td>\n",
       "      <td>post</td>\n",
       "    </tr>\n",
       "    <tr>\n",
       "      <th>2</th>\n",
       "      <td>2</td>\n",
       "      <td>5813091744</td>\n",
       "      <td>424789697</td>\n",
       "      <td>bL(R)</td>\n",
       "      <td>bL(R)</td>\n",
       "      <td>22468</td>\n",
       "      <td>28453</td>\n",
       "      <td>19981</td>\n",
       "      <td>22470</td>\n",
       "      <td>28469</td>\n",
       "      <td>19981</td>\n",
       "      <td>0.905</td>\n",
       "      <td>0.998535</td>\n",
       "      <td>post</td>\n",
       "    </tr>\n",
       "    <tr>\n",
       "      <th>3</th>\n",
       "      <td>3</td>\n",
       "      <td>5813091744</td>\n",
       "      <td>424789697</td>\n",
       "      <td>bL(R)</td>\n",
       "      <td>bL(R)</td>\n",
       "      <td>21553</td>\n",
       "      <td>28574</td>\n",
       "      <td>20531</td>\n",
       "      <td>21547</td>\n",
       "      <td>28558</td>\n",
       "      <td>20515</td>\n",
       "      <td>0.899</td>\n",
       "      <td>0.858935</td>\n",
       "      <td>post</td>\n",
       "    </tr>\n",
       "    <tr>\n",
       "      <th>4</th>\n",
       "      <td>4</td>\n",
       "      <td>5813091744</td>\n",
       "      <td>424789697</td>\n",
       "      <td>bL(R)</td>\n",
       "      <td>bL(R)</td>\n",
       "      <td>21700</td>\n",
       "      <td>28618</td>\n",
       "      <td>20412</td>\n",
       "      <td>21707</td>\n",
       "      <td>28631</td>\n",
       "      <td>20409</td>\n",
       "      <td>0.953</td>\n",
       "      <td>0.842463</td>\n",
       "      <td>post</td>\n",
       "    </tr>\n",
       "    <tr>\n",
       "      <th>...</th>\n",
       "      <td>...</td>\n",
       "      <td>...</td>\n",
       "      <td>...</td>\n",
       "      <td>...</td>\n",
       "      <td>...</td>\n",
       "      <td>...</td>\n",
       "      <td>...</td>\n",
       "      <td>...</td>\n",
       "      <td>...</td>\n",
       "      <td>...</td>\n",
       "      <td>...</td>\n",
       "      <td>...</td>\n",
       "      <td>...</td>\n",
       "      <td>...</td>\n",
       "    </tr>\n",
       "    <tr>\n",
       "      <th>9808</th>\n",
       "      <td>2617</td>\n",
       "      <td>300968622</td>\n",
       "      <td>424789697</td>\n",
       "      <td>bL(R)</td>\n",
       "      <td>bL(R)</td>\n",
       "      <td>20531</td>\n",
       "      <td>31039</td>\n",
       "      <td>19793</td>\n",
       "      <td>20523</td>\n",
       "      <td>31050</td>\n",
       "      <td>19782</td>\n",
       "      <td>0.980</td>\n",
       "      <td>0.995538</td>\n",
       "      <td>post</td>\n",
       "    </tr>\n",
       "    <tr>\n",
       "      <th>9809</th>\n",
       "      <td>2618</td>\n",
       "      <td>300968622</td>\n",
       "      <td>424789697</td>\n",
       "      <td>bL(R)</td>\n",
       "      <td>bL(R)</td>\n",
       "      <td>20755</td>\n",
       "      <td>31076</td>\n",
       "      <td>19897</td>\n",
       "      <td>20749</td>\n",
       "      <td>31074</td>\n",
       "      <td>19883</td>\n",
       "      <td>0.957</td>\n",
       "      <td>0.889143</td>\n",
       "      <td>post</td>\n",
       "    </tr>\n",
       "    <tr>\n",
       "      <th>9810</th>\n",
       "      <td>2619</td>\n",
       "      <td>300968622</td>\n",
       "      <td>424789697</td>\n",
       "      <td>bL(R)</td>\n",
       "      <td>bL(R)</td>\n",
       "      <td>22452</td>\n",
       "      <td>29592</td>\n",
       "      <td>22245</td>\n",
       "      <td>22460</td>\n",
       "      <td>29593</td>\n",
       "      <td>22257</td>\n",
       "      <td>0.897</td>\n",
       "      <td>0.985913</td>\n",
       "      <td>post</td>\n",
       "    </tr>\n",
       "    <tr>\n",
       "      <th>9811</th>\n",
       "      <td>2620</td>\n",
       "      <td>300968622</td>\n",
       "      <td>424789697</td>\n",
       "      <td>bL(R)</td>\n",
       "      <td>bL(R)</td>\n",
       "      <td>23151</td>\n",
       "      <td>29723</td>\n",
       "      <td>21140</td>\n",
       "      <td>23151</td>\n",
       "      <td>29739</td>\n",
       "      <td>21147</td>\n",
       "      <td>0.957</td>\n",
       "      <td>0.855462</td>\n",
       "      <td>post</td>\n",
       "    </tr>\n",
       "    <tr>\n",
       "      <th>9812</th>\n",
       "      <td>2621</td>\n",
       "      <td>300968622</td>\n",
       "      <td>424789697</td>\n",
       "      <td>bL(R)</td>\n",
       "      <td>bL(R)</td>\n",
       "      <td>22536</td>\n",
       "      <td>29720</td>\n",
       "      <td>22160</td>\n",
       "      <td>22553</td>\n",
       "      <td>29716</td>\n",
       "      <td>22155</td>\n",
       "      <td>0.923</td>\n",
       "      <td>0.950217</td>\n",
       "      <td>post</td>\n",
       "    </tr>\n",
       "  </tbody>\n",
       "</table>\n",
       "<p>9813 rows × 14 columns</p>\n",
       "</div>"
      ],
      "text/plain": [
       "      index  bodyId_pre  bodyId_post roi_pre roi_post  x_pre  y_pre  z_pre  \\\n",
       "0         0  5813091744    424789697  b'L(R)   b'L(R)  19671  30054  19484   \n",
       "1         1  5813091744    424789697   bL(R)    bL(R)  19769  30128  19705   \n",
       "2         2  5813091744    424789697   bL(R)    bL(R)  22468  28453  19981   \n",
       "3         3  5813091744    424789697   bL(R)    bL(R)  21553  28574  20531   \n",
       "4         4  5813091744    424789697   bL(R)    bL(R)  21700  28618  20412   \n",
       "...     ...         ...          ...     ...      ...    ...    ...    ...   \n",
       "9808   2617   300968622    424789697   bL(R)    bL(R)  20531  31039  19793   \n",
       "9809   2618   300968622    424789697   bL(R)    bL(R)  20755  31076  19897   \n",
       "9810   2619   300968622    424789697   bL(R)    bL(R)  22452  29592  22245   \n",
       "9811   2620   300968622    424789697   bL(R)    bL(R)  23151  29723  21140   \n",
       "9812   2621   300968622    424789697   bL(R)    bL(R)  22536  29720  22160   \n",
       "\n",
       "      x_post  y_post  z_post  confidence_pre  confidence_post pre_or_post  \n",
       "0      19669   30031   19466           0.889         0.715545        post  \n",
       "1      19738   30112   19705           0.972         0.486082        post  \n",
       "2      22470   28469   19981           0.905         0.998535        post  \n",
       "3      21547   28558   20515           0.899         0.858935        post  \n",
       "4      21707   28631   20409           0.953         0.842463        post  \n",
       "...      ...     ...     ...             ...              ...         ...  \n",
       "9808   20523   31050   19782           0.980         0.995538        post  \n",
       "9809   20749   31074   19883           0.957         0.889143        post  \n",
       "9810   22460   29593   22257           0.897         0.985913        post  \n",
       "9811   23151   29739   21147           0.957         0.855462        post  \n",
       "9812   22553   29716   22155           0.923         0.950217        post  \n",
       "\n",
       "[9813 rows x 14 columns]"
      ]
     },
     "execution_count": 12,
     "metadata": {},
     "output_type": "execute_result"
    }
   ],
   "source": [
    "synapses"
   ]
  },
  {
   "cell_type": "code",
   "execution_count": 34,
   "metadata": {},
   "outputs": [
    {
     "name": "stdout",
     "output_type": "stream",
     "text": [
      "Reloading 'neuprint_functions'.\n"
     ]
    }
   ],
   "source": [
    "skel_graph = neuprint_functions.pull_skeleton(mbon_id, skel_format='nx')\n",
    "skel = neuprint_functions.pull_skeleton(mbon_id, skel_format='pandas')\n",
    "skel_swc, relabel_dict = neuprint_functions.relabel_skeleton_swc(skel_graph, skel)"
   ]
  },
  {
   "cell_type": "code",
   "execution_count": null,
   "metadata": {},
   "outputs": [],
   "source": [
    "with open(\"neuron_skeleton.swc\", \"w\") as output:\n",
    "    output.write(skel_swc)"
   ]
  }
 ],
 "metadata": {
  "kernelspec": {
   "display_name": "base",
   "language": "python",
   "name": "python3"
  },
  "language_info": {
   "codemirror_mode": {
    "name": "ipython",
    "version": 3
   },
   "file_extension": ".py",
   "mimetype": "text/x-python",
   "name": "python",
   "nbconvert_exporter": "python",
   "pygments_lexer": "ipython3",
   "version": "3.10.11"
  },
  "orig_nbformat": 4
 },
 "nbformat": 4,
 "nbformat_minor": 2
}
